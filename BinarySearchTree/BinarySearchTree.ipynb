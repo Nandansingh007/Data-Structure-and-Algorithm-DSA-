{
  "cells": [
    {
      "cell_type": "code",
      "execution_count": 4,
      "metadata": {
        "id": "0rzHmYdYHuOf"
      },
      "outputs": [],
      "source": [
        "class Bst:\n",
        "    \"\"\"\n",
        "    Binary Search Tree class\n",
        "    \"\"\"\n",
        "    def __init__(self, root):\n",
        "        \"\"\"\n",
        "        Constructor\n",
        "        Args:\n",
        "            root: root node of the BST\n",
        "        Returns:\n",
        "            None\n",
        "        \"\"\"\n",
        "        self.root= root\n",
        "        self.left= None\n",
        "        self.right= None\n",
        "\n",
        "\n",
        "    def insert(self, value):\n",
        "        \"\"\"\n",
        "        Function to insert a node in the BST\n",
        "        Args:\n",
        "            value: value to be inserted\n",
        "        Returns:\n",
        "            None\n",
        "        \"\"\"\n",
        "        if self.root is None:\n",
        "            self.root= value\n",
        "            return\n",
        "        if self.root== value:\n",
        "            return\n",
        "        if self.root < value:\n",
        "            if self.right:       # if right node exists\n",
        "                 self.right.insert(value)     # insert in right node\n",
        "            else:\n",
        "                self.right= Bst(value)    # create a new node\n",
        "        else:\n",
        "            if self.left:         # if left node exists\n",
        "                 self.left.insert(value)     # insert in left node\n",
        "            else:\n",
        "                self.left= Bst(value)    # create a new node\n",
        "\n",
        "    def search(self,value):\n",
        "        \"\"\"\n",
        "        Function to search a node in the BST\n",
        "        Args:\n",
        "            value: value to be searched\n",
        "        Returns:\n",
        "            true if value is found, false otherwise\n",
        "        \"\"\"\n",
        "        if self.root == value:\n",
        "            print(\"Node found!!\")\n",
        "            return\n",
        "        if value > self.root:\n",
        "            if self.right:\n",
        "                self.right.search(value)\n",
        "            else:\n",
        "                print(\"Node not found!\")\n",
        "\n",
        "        else:\n",
        "            if self.left:\n",
        "                self.left.search(value)\n",
        "            else:\n",
        "                print(\"Node not found!\")\n",
        "\n",
        "    def preorder_traverse(self):\n",
        "        \"\"\"\n",
        "        Function to traverse the BST in preorder\n",
        "        Args:\n",
        "            None\n",
        "        Returns:\n",
        "            the list containing the BST elements in preorder\n",
        "        \"\"\"\n",
        "        print(self.root, end=\" \")    # print root node\n",
        "        if self.left:\n",
        "            self.left.preorder_traverse()     # traverse left subtree\n",
        "        if self.right:\n",
        "            self.right.preorder_traverse()      # traverse right subtree\n",
        "\n",
        "    def inorder_traverse(self):\n",
        "        \"\"\"\n",
        "        Function to traverse the BST in Inorder\n",
        "        Args:\n",
        "            None\n",
        "        Returns:\n",
        "            The list containing the BST elements in Inorder\n",
        "        \"\"\"\n",
        "        if self.left:\n",
        "            self.left.inorder_traverse()\n",
        "        print(self.root,end=\" \")\n",
        "        if self.right:\n",
        "            self.right.inorder_traverse()\n",
        "\n",
        "    def postorder_traverse(self):\n",
        "        \"\"\"\n",
        "        Function o traverse the BSt in Postorder\n",
        "        Args:\n",
        "            None\n",
        "        Returns:\n",
        "            The list containing the BST elements in Postorder\n",
        "        \"\"\"\n",
        "        if self.root is None:\n",
        "            return\n",
        "        if self.left:\n",
        "            self.left.postorder_traverse()\n",
        "        if self.right:\n",
        "            self.right.postorder_traverse()\n",
        "        print(self.root,end=\" \")\n",
        "\n",
        "    def delete(self, value):\n",
        "        \"\"\"\n",
        "        Function to delete a node from the BST\n",
        "        Args:\n",
        "            value: node to be deleted\n",
        "        Returns:\n",
        "            None\n",
        "        \"\"\"\n",
        "        if self.root is None:\n",
        "            print(\"Tree is empty!\")\n",
        "            return\n",
        "        if value < self.root:\n",
        "            # print(\"Left Child\")\n",
        "            if self.left:\n",
        "                self.left = self.left.delete(value)\n",
        "            else:\n",
        "                print(\"The node does not exist in the BST\")\n",
        "        elif value > self.root:\n",
        "            # print(\"Right Child\")\n",
        "            if self.right:\n",
        "                self.right = self.right.delete(value)\n",
        "            else:\n",
        "                print(\"The node does not exist in the BST\")\n",
        "        else:\n",
        "\n",
        "            if self.left is None and self.right is None:\n",
        "                # print(\"Leaf node\")\n",
        "                self = None\n",
        "                return\n",
        "\n",
        "            if self.left is None:\n",
        "                # print(\"Left child is empty\")\n",
        "                temp = self.right          # store right child in temp\n",
        "                self.root= temp.root     # copy root of right child to root\n",
        "                self.left= temp.left     # copy left child of right child to left\n",
        "                self.right= temp.right    # copy right child of right child to right\n",
        "                return self\n",
        "            if self.right is None:\n",
        "                # print(\"Right child is empty\")\n",
        "                temp = self.left\n",
        "                self.root= temp.root\n",
        "                self.left= temp.left\n",
        "                self.right= temp.right\n",
        "                return self\n",
        "            node = self.left        # find the inorder predecessor\n",
        "            while node.right:       # find the rightmost node in left subtree\n",
        "                node = node.right\n",
        "            self.root= node.root    # copy the value of rightmost node to root\n",
        "            self.left= self.left.delete(node.root)      # delete the rightmost node\n",
        "        return self\n",
        "\n"
      ]
    },
    {
      "cell_type": "code",
      "execution_count": 5,
      "metadata": {
        "id": "r0PAbFePHuOk"
      },
      "outputs": [],
      "source": [
        "root= Bst(5)\n",
        "list_x=[3,4,2,1,5]\n",
        "for i in list_x:\n",
        "    root.insert(i)\n"
      ]
    },
    {
      "cell_type": "code",
      "execution_count": 6,
      "metadata": {
        "colab": {
          "base_uri": "https://localhost:8080/"
        },
        "id": "5zGVFgWLHuOl",
        "outputId": "b0fcc566-0f18-4828-c521-050e8cfcdbe6"
      },
      "outputs": [
        {
          "output_type": "stream",
          "name": "stdout",
          "text": [
            "Node not found!\n"
          ]
        }
      ],
      "source": [
        "root.search(8)"
      ]
    },
    {
      "cell_type": "code",
      "execution_count": 7,
      "metadata": {
        "colab": {
          "base_uri": "https://localhost:8080/"
        },
        "id": "sr2cTJqaHuOm",
        "outputId": "edca7a06-9689-4106-db6a-125a1aa701e0"
      },
      "outputs": [
        {
          "output_type": "stream",
          "name": "stdout",
          "text": [
            "5 3 2 1 4 "
          ]
        }
      ],
      "source": [
        "root.preorder_traverse()"
      ]
    },
    {
      "cell_type": "code",
      "execution_count": 8,
      "metadata": {
        "colab": {
          "base_uri": "https://localhost:8080/"
        },
        "id": "4jTgj9-YHuOm",
        "outputId": "e98eb5c5-aa6f-4f22-8717-941b41852a67"
      },
      "outputs": [
        {
          "output_type": "stream",
          "name": "stdout",
          "text": [
            "1 2 3 4 5 "
          ]
        }
      ],
      "source": [
        "root.inorder_traverse()"
      ]
    },
    {
      "cell_type": "code",
      "execution_count": 9,
      "metadata": {
        "colab": {
          "base_uri": "https://localhost:8080/"
        },
        "id": "wcUE0hlXHuOn",
        "outputId": "cf0d7842-f981-4627-8ae3-041362782759"
      },
      "outputs": [
        {
          "output_type": "stream",
          "name": "stdout",
          "text": [
            "1 2 4 3 5 "
          ]
        }
      ],
      "source": [
        "root.postorder_traverse()"
      ]
    },
    {
      "cell_type": "code",
      "execution_count": 10,
      "metadata": {
        "colab": {
          "base_uri": "https://localhost:8080/"
        },
        "id": "fnVAirIdHuOn",
        "outputId": "fce56ce5-1bdb-4318-c929-65b7dfca99bc"
      },
      "outputs": [
        {
          "output_type": "execute_result",
          "data": {
            "text/plain": [
              "<__main__.Bst at 0x7f3932d5ea10>"
            ]
          },
          "metadata": {},
          "execution_count": 10
        }
      ],
      "source": [
        "root.delete(1)"
      ]
    },
    {
      "cell_type": "code",
      "execution_count": 11,
      "metadata": {
        "colab": {
          "base_uri": "https://localhost:8080/"
        },
        "id": "-ijZh7ZYHuOo",
        "outputId": "8eebfc98-741d-45f8-c142-4878a99d01a3"
      },
      "outputs": [
        {
          "output_type": "stream",
          "name": "stdout",
          "text": [
            "5 3 2 4 "
          ]
        }
      ],
      "source": [
        "root.preorder_traverse()"
      ]
    },
    {
      "cell_type": "code",
      "execution_count": 12,
      "metadata": {
        "colab": {
          "base_uri": "https://localhost:8080/"
        },
        "id": "uYMg0BdeHuOo",
        "outputId": "6e91d7eb-02db-4bbe-e672-3df9ad7fe93c"
      },
      "outputs": [
        {
          "output_type": "execute_result",
          "data": {
            "text/plain": [
              "<__main__.Bst at 0x7f3932d5ea10>"
            ]
          },
          "metadata": {},
          "execution_count": 12
        }
      ],
      "source": [
        "root.delete(3)"
      ]
    },
    {
      "cell_type": "code",
      "execution_count": 13,
      "metadata": {
        "colab": {
          "base_uri": "https://localhost:8080/"
        },
        "id": "Ht6cdxcIHuOp",
        "outputId": "22f2294a-36ce-4e31-97b1-a8fa77c5d4b3"
      },
      "outputs": [
        {
          "output_type": "stream",
          "name": "stdout",
          "text": [
            "5 2 4 "
          ]
        }
      ],
      "source": [
        "root.preorder_traverse()"
      ]
    }
  ],
  "metadata": {
    "kernelspec": {
      "display_name": "fellowship",
      "language": "python",
      "name": "python3"
    },
    "language_info": {
      "codemirror_mode": {
        "name": "ipython",
        "version": 3
      },
      "file_extension": ".py",
      "mimetype": "text/x-python",
      "name": "python",
      "nbconvert_exporter": "python",
      "pygments_lexer": "ipython3",
      "version": "3.11.0"
    },
    "orig_nbformat": 4,
    "colab": {
      "provenance": []
    }
  },
  "nbformat": 4,
  "nbformat_minor": 0
}
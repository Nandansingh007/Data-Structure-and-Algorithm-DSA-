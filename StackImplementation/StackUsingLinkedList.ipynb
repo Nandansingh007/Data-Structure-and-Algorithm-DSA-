{
  "cells": [
    {
      "cell_type": "code",
      "execution_count": 1,
      "metadata": {
        "id": "FmLmIKQBRJ72"
      },
      "outputs": [],
      "source": [
        "#creating class for the each node\n",
        "class node:\n",
        "    \"\"\"\n",
        "    Class to create individual node\n",
        "    \"\"\"\n",
        "    def __init__(self,data):\n",
        "        self.data=data\n",
        "        self.next=None"
      ]
    },
    {
      "cell_type": "code",
      "execution_count": 2,
      "metadata": {
        "id": "yBs8ZK2SRJ77"
      },
      "outputs": [],
      "source": [
        "class stack:\n",
        "    \"\"\"\n",
        "    Class to create stack using linked list\n",
        "\n",
        "    \"\"\"\n",
        "    def __init__(self):\n",
        "        self.top=None\n",
        "        self.n=0\n",
        "\n",
        "    def Isempty(self):\n",
        "        \"\"\"\n",
        "        Function to check if the stack is empty or not\n",
        "        Args:\n",
        "            None\n",
        "        Returns:\n",
        "            True if stack is empty else False\n",
        "        \"\"\"\n",
        "        if self.top==None:\n",
        "            return True\n",
        "        else:\n",
        "            return False\n",
        "\n",
        "    def size(self):\n",
        "        \"\"\"\n",
        "        Function to return the size of stack\n",
        "        Args:\n",
        "            None\n",
        "        Returns:\n",
        "            Integer: Size of the stack\n",
        "        \"\"\"\n",
        "        return self.n\n",
        "\n",
        "    def push(self,data):\n",
        "        \"\"\"\n",
        "        Function to push data into the top of stack\n",
        "        Args:\n",
        "            data: Data to be pushed\n",
        "        Returns:\n",
        "            None\n",
        "        \"\"\"\n",
        "        new_node=node(data)       #Creating a new node\n",
        "        new_node.next=self.top   #Pointing the next of new node to top\n",
        "        self.top=new_node       #Making the new node as top\n",
        "        self.n+=1\n",
        "\n",
        "    def peek(self):\n",
        "        \"\"\"\n",
        "        Function to return the item at the top of stack\n",
        "        Args:\n",
        "            None\n",
        "        Returns:\n",
        "            Data at the top of stack\n",
        "        \"\"\"\n",
        "        if self.Isempty():\n",
        "            return \"Stack is empty\"\n",
        "        else:\n",
        "            return self.top.data\n",
        "\n",
        "    def __str__(self):\n",
        "        \"\"\"\n",
        "        Function to print the stack\n",
        "        Args:\n",
        "            None\n",
        "        Returns:\n",
        "            String: Stack\n",
        "        \"\"\"\n",
        "        current=self.top     #Making the top as current\n",
        "        s=\"\"                #Empty string\n",
        "        while current!=None:\n",
        "            s+= str(current.data) + \" \\n \"   #Adding the data of current to string\n",
        "            current=current.next\n",
        "        return s\n",
        "\n",
        "    def pop(self):\n",
        "        \"\"\"\n",
        "        Function to remove the item from the top of stack\n",
        "        Args:\n",
        "            None\n",
        "        Returns:\n",
        "            Data at the top of stack\n",
        "        \"\"\"\n",
        "        if self.Isempty():     #Checking if stack is empty\n",
        "            return \"Stack is empty\"\n",
        "        else:\n",
        "            data=self.top.data      #Storing the data of top in data\n",
        "            self.top=self.top.next    #Making the next of top as top\n",
        "            self.n-=1\n",
        "            return data\n",
        "\n",
        "    def copy(self):\n",
        "        \"\"\"\n",
        "        Function to copy the stack\n",
        "        Args:\n",
        "            None\n",
        "        Returns:\n",
        "            Stack: Copy of stack\n",
        "        \"\"\"\n",
        "        s=stack()       #Creating a new stack\n",
        "        current=self.top    #Making the top as current\n",
        "        ar=[]               #Empty list\n",
        "        while current!=None:\n",
        "            ar.append(current.data)   #Adding the data of current to list\n",
        "            current=current.next\n",
        "        for _ in range(len(ar)):\n",
        "            s.push(ar.pop())         #Pushing the data of list to stack\n",
        "        return s\n",
        ""
      ]
    },
    {
      "cell_type": "code",
      "execution_count": 3,
      "metadata": {
        "id": "-IGc5P4VRJ78"
      },
      "outputs": [],
      "source": [
        "def reverse_string(strings):\n",
        "    \"\"\"\n",
        "    Function to reverse the string using stack\n",
        "    Args:\n",
        "        strings(str): String to be reversed\n",
        "    Returns:\n",
        "        String: Reversed string\n",
        "    \"\"\"\n",
        "    st=stack()\n",
        "    for i in strings:       #Pushing the characters of string into stack\n",
        "        st.push(i)\n",
        "\n",
        "\n",
        "    rev=\"\"\n",
        "    while not st.Isempty():      #Popping the characters from stack and adding it to rev\n",
        "        rev+=st.pop()\n",
        "    return rev\n",
        "\n"
      ]
    },
    {
      "cell_type": "code",
      "execution_count": 4,
      "metadata": {
        "colab": {
          "base_uri": "https://localhost:8080/"
        },
        "id": "cai_imdRRJ79",
        "outputId": "5bf8ddad-6632-4810-f8f5-98419c229bcf"
      },
      "outputs": [
        {
          "output_type": "stream",
          "name": "stdout",
          "text": [
            "hgniS nadnaN\n"
          ]
        }
      ],
      "source": [
        "print(reverse_string(\"Nandan Singh\"))"
      ]
    },
    {
      "cell_type": "code",
      "execution_count": 5,
      "metadata": {
        "id": "18MMBwKZRJ7-"
      },
      "outputs": [],
      "source": [
        "def operations(strings,ops):\n",
        "    \"\"\"\n",
        "    Function to perform undo and redo operations\n",
        "    Args:\n",
        "        strings(str): String to be operated\n",
        "        ops(str):  Operations to be performed\n",
        "    Returns:\n",
        "        String: Final string after performing operations\n",
        "    \"\"\"\n",
        "    string_stk=stack()      #Stack to store the strings\n",
        "    ops_stk=stack()         #Stack to store the operations\n",
        "    temp_stk=stack()        #Temporary stack to store the strings\n",
        "\n",
        "    for i in strings:       #Pushing the characters of string into stack\n",
        "        string_stk.push(i)\n",
        "    for i in ops:           #Pushing the operations into stack\n",
        "        ops_stk.push(i)\n",
        "\n",
        "    def getString(s):\n",
        "        \"\"\"\n",
        "        Function to return the string from stack\n",
        "        Args:\n",
        "            s(stack): Stack to be returned\n",
        "        Returns:\n",
        "            String: String from stack\n",
        "        \"\"\"\n",
        "        st=\" \"\n",
        "        while not s.Isempty():\n",
        "            st=s.pop()+st\n",
        "        return st\n",
        "    while not ops_stk.Isempty():\n",
        "        op=ops_stk.pop()        #Popping the operation\n",
        "        print(f\"Before: {getString(string_stk.copy())} ||  Current operation: {op} ||\",end=' ')  #Printing the string and operation\n",
        "        if op == 'u':\n",
        "            temp_stk.push(string_stk.pop())     #Pushing the popped character into temp stack\n",
        "        elif op=='r' and not temp_stk.Isempty():\n",
        "            string_stk.push(temp_stk.pop())       #Pushing the popped character into string stack\n",
        "        print(f\"After: {getString(string_stk.copy())}\")   #Printing the string after operation\n",
        "    return getString(string_stk)      #Returning the string after operations\n",
        "\n",
        "\n",
        ""
      ]
    },
    {
      "cell_type": "code",
      "execution_count": 6,
      "metadata": {
        "colab": {
          "base_uri": "https://localhost:8080/",
          "height": 199
        },
        "id": "XY_eBJwjRJ7_",
        "outputId": "fbf55534-f5bc-4a96-ca22-0f977fe397f7"
      },
      "outputs": [
        {
          "output_type": "stream",
          "name": "stdout",
          "text": [
            "Before: I am fine  ||  Current operation: u || After: I am fin \n",
            "Before: I am fin  ||  Current operation: o || After: I am fin \n",
            "Before: I am fin  ||  Current operation: y || After: I am fin \n",
            "Before: I am fin  ||  Current operation:   || After: I am fin \n",
            "Before: I am fin  ||  Current operation: k || After: I am fin \n",
            "Before: I am fin  ||  Current operation: n || After: I am fin \n",
            "Before: I am fin  ||  Current operation: a || After: I am fin \n",
            "Before: I am fin  ||  Current operation: h || After: I am fin \n",
            "Before: I am fin  ||  Current operation: t || After: I am fin \n"
          ]
        },
        {
          "output_type": "execute_result",
          "data": {
            "text/plain": [
              "'I am fin '"
            ],
            "application/vnd.google.colaboratory.intrinsic+json": {
              "type": "string"
            }
          },
          "metadata": {},
          "execution_count": 6
        }
      ],
      "source": [
        "operations(\"I am fine\",\"thank you\")"
      ]
    },
    {
      "cell_type": "code",
      "execution_count": null,
      "metadata": {
        "id": "2SX2Z7O-RJ8A"
      },
      "outputs": [],
      "source": []
    }
  ],
  "metadata": {
    "kernelspec": {
      "display_name": "fellowship",
      "language": "python",
      "name": "python3"
    },
    "language_info": {
      "codemirror_mode": {
        "name": "ipython",
        "version": 3
      },
      "file_extension": ".py",
      "mimetype": "text/x-python",
      "name": "python",
      "nbconvert_exporter": "python",
      "pygments_lexer": "ipython3",
      "version": "3.11.0"
    },
    "orig_nbformat": 4,
    "colab": {
      "provenance": []
    }
  },
  "nbformat": 4,
  "nbformat_minor": 0
}
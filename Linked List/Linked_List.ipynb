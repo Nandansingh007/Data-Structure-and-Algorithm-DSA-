{
  "cells": [
    {
      "cell_type": "code",
      "execution_count": 1,
      "metadata": {
        "id": "0CM1zvEcToSz"
      },
      "outputs": [],
      "source": [
        "#defining Node class\n",
        "class node:\n",
        "    \"\"\"\n",
        "    Class to create a node for a linked list\n",
        "    \"\"\"\n",
        "    def __init__(self,data):\n",
        "        \"\"\"\n",
        "        Constructor for the node class\n",
        "        \"\"\"\n",
        "        self.data = data   # Assign data\n",
        "        self.next = None   # Initialize next as null\n",
        "\n"
      ]
    },
    {
      "cell_type": "code",
      "execution_count": 2,
      "metadata": {
        "id": "ZBOArHC8ToS6"
      },
      "outputs": [],
      "source": [
        "#defining linked list class\n",
        "class linked_list:\n",
        "    \"\"\"\"\n",
        "    Class to create a linked list\n",
        "    \"\"\"\n",
        "    def __init__(self):\n",
        "        self.head=None  #Empty linked list\n",
        "        self.n=0        #Number of nodes in the linked list\n",
        "\n",
        "    def __len__(self):\n",
        "        \"\"\"\n",
        "        Function to return the length of the linked list\n",
        "        Args: None\n",
        "        Returns:\n",
        "            Integer:Length of the linked list\n",
        "\n",
        "        \"\"\"\n",
        "        return self.n\n",
        "\n",
        "    def insert_from_head(self,data):\n",
        "        \"\"\"\n",
        "        Function to insert a node from the head of the linked list\n",
        "        Args:\n",
        "            data: Data to be inserted in the node\n",
        "        Returns: None\n",
        "        \"\"\"\n",
        "        new_node=node(data)     #Create a new node\n",
        "        new_node.next=self.head     #Point the next of the new node to the head of the linked list\n",
        "        self.head=new_node      #Make the new node as the head of the linked list\n",
        "        self.n+=1        #Increase the length of the linked list by 1\n",
        "\n",
        "    def __str__(self):\n",
        "        \"\"\"\n",
        "        Function to print the linked list\n",
        "        Args: None\n",
        "        Returns:\n",
        "            String: Linked list\n",
        "        \"\"\"\n",
        "        if self.head==None:\n",
        "            print(\"Linked list is empty\")\n",
        "            return\n",
        "        current=self.head       #Start from the head of the linked list\n",
        "        ls=''           #Empty string to store the linked list\n",
        "        while current!=None:\n",
        "            ls=ls+str(current.data)+ '-->'      #Add the data of the current node to the string\n",
        "            current=current.next        #Move to the next node\n",
        "\n",
        "        return ls[:-3]      #Remove the last arrow\n",
        "\n",
        "    def append(self,data):\n",
        "        \"\"\"\n",
        "        Function to append a node to the end of the linked list\n",
        "        Args:\n",
        "            data: Data to be inserted in the node\n",
        "        Returns: None\n",
        "        \"\"\"\n",
        "        new_node=node(data)     #Create a new node\n",
        "        if self.head==None:     #If the linked list is empty\n",
        "            self.head=new_node  #Make the new node as the head of the linked list\n",
        "            self.n+=1           #Increase the length of the linked list by 1\n",
        "            return\n",
        "        current=self.head   #Create connection to the head of the linked list\n",
        "        while current.next!=None:   #Move to the end of the linked list\n",
        "            current=current.next\n",
        "        current.next=new_node   #Make the new node as the next of the last node\n",
        "        self.n+=1   #Increase the length of the linked list by 1\n",
        "\n",
        "    def insert_after(self,data,after):\n",
        "        \"\"\"\n",
        "        Function to insert a node after a given node\n",
        "        Args:\n",
        "            data(Integer): Data to be inserted in the node\n",
        "            after(Integer): Data of the node after which the new node is to be inserted\n",
        "        Returns: None\n",
        "\n",
        "        \"\"\"\n",
        "        new_node=node(data)  #Create a new node\n",
        "        self.n=self.n+1   #Increase the length of the linked list by 1\n",
        "        current=self.head\n",
        "        while current!=None:\n",
        "            if current.data==after:  #If the current node is the node after which the new node is to be inserted\n",
        "                break\n",
        "            current=current.next   #Move to the next node\n",
        "        if current!=None:\n",
        "            new_node.next=current.next   #Make the next of the new node as the next of the current node\n",
        "            current.next=new_node   #Make the new node as the next of the current node\n",
        "\n",
        "    def delete_from_head(self):\n",
        "        \"\"\"\n",
        "        Function to delete a node from the head of the linked list\n",
        "        Args: None\n",
        "        Returns: None\n",
        "        \"\"\"\n",
        "        if self.head==None:\n",
        "            print(\"Linked list is empty\")\n",
        "            return\n",
        "        self.head=self.head.next   #Make the next of the head as the head\n",
        "        self.n-=1   #Decrease the length of the linked list by 1\n",
        "\n",
        "    def delete_from_end(self):\n",
        "        \"\"\"\n",
        "        Function to delete a node from the end of the linked list\n",
        "        Args: None\n",
        "        Returns: None\n",
        "        \"\"\"\n",
        "        current=self.head\n",
        "        if current==None:    #If the linked list is empty\n",
        "            print(\"Linked list is empty\")\n",
        "            return\n",
        "        if current.next==None:   #If there is only one node in the linked list\n",
        "            self.head=None\n",
        "            self.n-=1\n",
        "            return\n",
        "        while current.next.next != None:  #Move to the node before the last node\n",
        "            current=current.next          #Move to the next node\n",
        "        current.next=None              #Make the next of the current node as null\n",
        "        self.n-=1   #Decrease the length of the linked list by 1\n",
        "\n",
        "    def delete_after(self,after):\n",
        "        \"\"\"\n",
        "        Function to delete a node after a given node\n",
        "        Args:\n",
        "            after(Integer): Data of the node after which the node is to be deleted\n",
        "        Returns: None\n",
        "\n",
        "        \"\"\"\n",
        "        if self.head==None:\n",
        "            print(\"Linked list is empty\")\n",
        "            return\n",
        "        current=self.head\n",
        "        while current!=None:   #Move to the node before the node to be deleted\n",
        "            if current.data==after:    #If the current node is the node before the node to be deleted\n",
        "                break\n",
        "            current=current.next   #Move to the next node\n",
        "        if current!=None:\n",
        "            current.next=current.next.next   #Make the next of the current node as the next of the next of the current node\n",
        "        self.n-=1   #Decrease the length of the linked list by 1\n",
        "\n",
        "    def clear(self):\n",
        "        \"\"\"\n",
        "        Function to clear the linked list\n",
        "        Args: None\n",
        "        Returns: None\n",
        "        \"\"\"\n",
        "        self.head=None\n",
        "        self.n=0"
      ]
    },
    {
      "cell_type": "code",
      "execution_count": 4,
      "metadata": {
        "id": "VxWbcvhFToS_"
      },
      "outputs": [],
      "source": [
        "#creating the instances\n",
        "linked=linked_list()"
      ]
    },
    {
      "cell_type": "code",
      "execution_count": 5,
      "metadata": {
        "id": "kIo0r6z0ToTA"
      },
      "outputs": [],
      "source": [
        "#insertion from head\n",
        "linked.insert_from_head(1)\n",
        "linked.insert_from_head(2)\n",
        "linked.insert_from_head(3)\n",
        "linked.insert_from_head(4)\n",
        "linked.insert_from_head(5)"
      ]
    },
    {
      "cell_type": "code",
      "execution_count": 6,
      "metadata": {
        "colab": {
          "base_uri": "https://localhost:8080/"
        },
        "id": "mCyBvvYYToTB",
        "outputId": "de1c729c-c5da-418f-a5f0-b6d01bc84de9"
      },
      "outputs": [
        {
          "output_type": "execute_result",
          "data": {
            "text/plain": [
              "5"
            ]
          },
          "metadata": {},
          "execution_count": 6
        }
      ],
      "source": [
        "len(linked)"
      ]
    },
    {
      "cell_type": "code",
      "execution_count": 7,
      "metadata": {
        "colab": {
          "base_uri": "https://localhost:8080/"
        },
        "id": "UbkWpCG2ToTE",
        "outputId": "92dfa0ab-f678-4c94-fef5-e503098f35c8"
      },
      "outputs": [
        {
          "output_type": "stream",
          "name": "stdout",
          "text": [
            "5-->4-->3-->2-->1\n"
          ]
        }
      ],
      "source": [
        "print(linked)"
      ]
    },
    {
      "cell_type": "code",
      "execution_count": 8,
      "metadata": {
        "id": "cUakC4O9ToTG"
      },
      "outputs": [],
      "source": [
        "linked.append(6)"
      ]
    },
    {
      "cell_type": "code",
      "execution_count": 9,
      "metadata": {
        "id": "WhBkH6RbToTG"
      },
      "outputs": [],
      "source": [
        "linked.insert_after(10,3)"
      ]
    },
    {
      "cell_type": "code",
      "execution_count": 10,
      "metadata": {
        "colab": {
          "base_uri": "https://localhost:8080/"
        },
        "id": "elORcOIzToTI",
        "outputId": "3384fcf2-ebef-4808-8cc6-1fbe6c8e2a47"
      },
      "outputs": [
        {
          "output_type": "stream",
          "name": "stdout",
          "text": [
            "5-->4-->3-->10-->2-->1-->6\n"
          ]
        }
      ],
      "source": [
        "print(linked)"
      ]
    },
    {
      "cell_type": "code",
      "execution_count": 11,
      "metadata": {
        "id": "QLv09Ac5ToTK"
      },
      "outputs": [],
      "source": [
        "#deleting from head\n",
        "linked.delete_from_head()"
      ]
    },
    {
      "cell_type": "code",
      "execution_count": 12,
      "metadata": {
        "colab": {
          "base_uri": "https://localhost:8080/"
        },
        "id": "057aypqMToTL",
        "outputId": "4f0551fa-f920-4773-bebf-82e1e5e01c17"
      },
      "outputs": [
        {
          "output_type": "stream",
          "name": "stdout",
          "text": [
            "4-->3-->10-->2-->1-->6\n"
          ]
        }
      ],
      "source": [
        "print(linked)"
      ]
    },
    {
      "cell_type": "code",
      "execution_count": 14,
      "metadata": {
        "id": "7T4mSXy2ToTM"
      },
      "outputs": [],
      "source": [
        "#deleting from tail\n",
        "linked.delete_from_end()"
      ]
    },
    {
      "cell_type": "code",
      "execution_count": 15,
      "metadata": {
        "colab": {
          "base_uri": "https://localhost:8080/"
        },
        "id": "eXUH-LiAToTN",
        "outputId": "d0905bb5-b0a7-4409-a142-5451823e7b2b"
      },
      "outputs": [
        {
          "output_type": "stream",
          "name": "stdout",
          "text": [
            "4-->3-->10-->2\n"
          ]
        }
      ],
      "source": [
        "print(linked)"
      ]
    },
    {
      "cell_type": "code",
      "execution_count": 16,
      "metadata": {
        "id": "BlhGZlT5ToTO"
      },
      "outputs": [],
      "source": [
        "linked.delete_after(20)"
      ]
    },
    {
      "cell_type": "code",
      "execution_count": 17,
      "metadata": {
        "colab": {
          "base_uri": "https://localhost:8080/"
        },
        "id": "yu7KjBOlToTO",
        "outputId": "142c4193-41aa-4254-e7e4-7f52ff9c3ef0"
      },
      "outputs": [
        {
          "output_type": "stream",
          "name": "stdout",
          "text": [
            "4-->3-->10-->2\n"
          ]
        }
      ],
      "source": [
        "print(linked)"
      ]
    }
  ],
  "metadata": {
    "kernelspec": {
      "display_name": "fellowship",
      "language": "python",
      "name": "python3"
    },
    "language_info": {
      "codemirror_mode": {
        "name": "ipython",
        "version": 3
      },
      "file_extension": ".py",
      "mimetype": "text/x-python",
      "name": "python",
      "nbconvert_exporter": "python",
      "pygments_lexer": "ipython3",
      "version": "3.11.0"
    },
    "orig_nbformat": 4,
    "colab": {
      "provenance": []
    }
  },
  "nbformat": 4,
  "nbformat_minor": 0
}
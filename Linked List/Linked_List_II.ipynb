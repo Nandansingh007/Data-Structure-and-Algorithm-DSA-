{
  "cells": [
    {
      "cell_type": "markdown",
      "metadata": {
        "id": "mufsKosBYA_E"
      },
      "source": [
        "##**Linked List**\n",
        "\n",
        "**Tutorial:**\n",
        "* Node\n",
        "* Create a LL\n",
        "* len\n",
        "* insert from head\n",
        "* Traverse/print\n",
        "* insert from tail(append)\n",
        "* insert in middle(after)\n",
        "* clear\n",
        "\n"
      ]
    },
    {
      "cell_type": "markdown",
      "metadata": {
        "id": "wfTsw5IetwJl"
      },
      "source": [
        "#### **Insert from head**\n",
        "    1|011   2|123   3|456  4|567  5|None\n",
        "\n",
        "     012     011      123   456    567\n",
        "\n",
        "    a|b    1|011   2|123   3|456  4|567  5|None\n",
        "\n",
        "            012     011      123   456    567"
      ]
    },
    {
      "cell_type": "markdown",
      "metadata": {
        "id": "UxfAunRR6a_i"
      },
      "source": [
        "#### **Traverse**\n",
        "    1|011   2|123   3|456  4|567  5|None *\n",
        "    curr = self.head"
      ]
    },
    {
      "cell_type": "markdown",
      "metadata": {
        "id": "CND9KmGc609e"
      },
      "source": [
        "#### **Insert from tail**\n",
        "    1|011   2|123   3|456  4|567  5|None\n",
        "     012     011      123   456    567\n",
        "\n",
        "    1|011   2|123   3|456  4|567  5|(None = 908)  a|b--> item|None\n",
        "    012     011      123   456    567             908"
      ]
    },
    {
      "cell_type": "markdown",
      "metadata": {
        "id": "KZMFy5ll7S-I"
      },
      "source": [
        "#### **Insert after given item**\n",
        "    1|011   2|123   3|456  4|567  5|None\n",
        "    012     011      123   456    567\n",
        "\n",
        "    1|011   2|123   3|456  a|b  4|567  5|None\n",
        "    012     011      123         456    567\n",
        "\n",
        "    1|011   2|123   3|c    a|456  4|567  5|None\n",
        "    012     011      123    c     456    567\n",
        "\n",
        "* Option 1:\n",
        "\n",
        "      3-->a\n",
        "      a-->4\n",
        "\n",
        "* Option 2:\n",
        "      a-->4\n",
        "      3-->a"
      ]
    },
    {
      "cell_type": "markdown",
      "metadata": {
        "id": "04vT2BDh8cjv"
      },
      "source": [
        "#### **Delete from head**\n",
        "     1|011   2|123   3|456  4|567  5|None\n",
        "      012     011      123   456    567\n",
        "\n",
        "     2|123   3|456  4|567  5|None\n",
        "      011      123   456    567"
      ]
    },
    {
      "cell_type": "markdown",
      "metadata": {
        "id": "pACjhXq28q_H"
      },
      "source": [
        "#### **Delete from tail**\n",
        "    1|011   2|123   3|456  4|567  5|None\n",
        "     012     011      123   456    567\n",
        "\n",
        "    1|011   2|123   3|456  4|567  5|None\n",
        "     012     011      123   456    567"
      ]
    },
    {
      "cell_type": "markdown",
      "metadata": {
        "id": "UiIc5k5VIKdf"
      },
      "source": [
        "#### **Delete by value (remove)**\n",
        "remove(3)\n",
        "\n",
        "    1|011   2|123   3|456  4|567  5|None\n",
        "     012     011      123   456    567\n",
        "Step 1: Traverse, traverse till 2,\n",
        "\n",
        "        loop: curr.next != None\n",
        "        check: curr.next.item == 2\n",
        "\n",
        "\n",
        "Step 2: By-pass the connection,\n",
        "\n",
        "        curr.next = 3\n",
        "        curr.next.next = 4\n",
        "        curr.next = curr.next.next\n",
        "\n",
        "    1|011   2|456  4|567  5|None\n",
        "     012     011    456    567\n",
        "\n",
        "Two cases:\n",
        "\n",
        "* item found\n",
        "\n",
        "      curr = 2\n",
        "      curr.next = curr.next.next\n",
        "\n",
        "* item not found\n",
        "\n",
        "      curr will stop at 5(tail)\n",
        "      check tail: curr.next == None\n",
        "\n",
        "remove(1)\n",
        "\n",
        "delete 1st node\n",
        "\n",
        "    check: self.head.data == value\n",
        "    remove head node: delete_head()\n",
        "\n",
        "empty LL\n",
        "\n",
        "    check: self.head == None"
      ]
    },
    {
      "cell_type": "markdown",
      "metadata": {
        "id": "a04tBb8uNT8o"
      },
      "source": [
        "#### **Search by value (find)**\n",
        "find(3): 2nd index\n",
        "\n",
        "      0       1       2      3     4\n",
        "    1|011   2|123   3|456  4|567  5|None\n",
        "     012     011     123    456    567\n",
        "Step 1: Traverse, traverse till 3,\n",
        "\n",
        "        loop: curr != None\n",
        "        check: curr.item == 3\n",
        "\n",
        "find(100): not found"
      ]
    },
    {
      "cell_type": "markdown",
      "metadata": {
        "id": "ZIRS6KykPer9"
      },
      "source": [
        "#### **Search by index (LL[1])**\n",
        "LL[1]: 2\n",
        "\n",
        "      0       1       2      3     4\n",
        "    1|011   2|123   3|456  4|567  5|None\n",
        "     012     011     123    456    567\n",
        "\n",
        "Step 1: Traverse, traverse till pos = 1,\n",
        "\n",
        "        loop: curr != None\n",
        "        check: pos == index\n",
        "\n",
        "LL[10]: index out of range"
      ]
    },
    {
      "cell_type": "markdown",
      "metadata": {
        "id": "I2HIz6tuPMiA"
      },
      "source": [
        "#### **Delete by index (del LL[0])**\n",
        "del LL[1]\n",
        "\n",
        "      0       1       2      3      4\n",
        "    1|011   2|123   3|456  4|567  5|None\n",
        "     012     011      123   456    567\n",
        "Step 1: Traverse\n",
        "\n",
        "        loop: curr != None\n",
        "        check: pos == index\n",
        "        get: value\n",
        "        return: remove(value)\n",
        "\n",
        "index out of bound\n"
      ]
    },
    {
      "cell_type": "code",
      "execution_count": 1,
      "metadata": {
        "id": "WAjDU9Pp9CLC"
      },
      "outputs": [],
      "source": [
        "# Create node\n",
        "class Node:\n",
        "  \"\"\"\n",
        "  Class to create individual nodes.\n",
        "  \"\"\"\n",
        "  def __init__(self, item):\n",
        "    self.item = item\n",
        "    self.next = None"
      ]
    },
    {
      "cell_type": "code",
      "execution_count": 2,
      "metadata": {
        "id": "ZDaowqGZ9Fkk"
      },
      "outputs": [],
      "source": [
        "a = Node(2)\n",
        "b = Node(3)\n",
        "c = Node(4)\n",
        "d = Node(5)"
      ]
    },
    {
      "cell_type": "markdown",
      "metadata": {},
      "source": []
    },
    {
      "cell_type": "code",
      "execution_count": 3,
      "metadata": {
        "id": "CgmLOfDx9LR1"
      },
      "outputs": [],
      "source": [
        "# Connect individual nodes to create a linked list\n",
        "a.next = b\n",
        "b.next = c\n",
        "c.next = d"
      ]
    },
    {
      "cell_type": "code",
      "execution_count": 4,
      "metadata": {
        "id": "Yv9VLVh1UIMX"
      },
      "outputs": [],
      "source": [
        "# Create a Linked List\n",
        "class LinkedList:\n",
        "\n",
        "  # Constructor => O(1)\n",
        "  def __init__(self):\n",
        "\n",
        "    # Empty Linked List\n",
        "    self.head = None\n",
        "    # No. of nodes in the LL\n",
        "    self.n = 0\n",
        "\n",
        "  # Length of Linked List => O(1)\n",
        "  def __len__(self):\n",
        "    return self.n\n",
        "\n",
        "  # Insert from head => O(1)\n",
        "  def insert_head(self, item):\n",
        "    # new node\n",
        "    new_node = Node(item)\n",
        "    # create connection\n",
        "    new_node.next = self.head\n",
        "    # reassign head\n",
        "    self.head = new_node\n",
        "    # increse n\n",
        "    self.n = self.n + 1\n",
        "\n",
        "  # Traverse/print => O(n)\n",
        "  def __str__(self):\n",
        "    curr = self.head\n",
        "    result = ''\n",
        "    while curr != None:\n",
        "      result = result + str(curr.item) + '-->'\n",
        "      curr = curr.next\n",
        "\n",
        "    return result[:-3]\n",
        "\n",
        "  # Insert from tail(append) => O(n)\n",
        "  def append(self, item):\n",
        "    # new node\n",
        "    new_node = Node(item)\n",
        "\n",
        "    # For empty linked list\n",
        "    if self.head == None:\n",
        "      # empty\n",
        "      self.head = new_node\n",
        "      self.n = self.n + 1\n",
        "      return\n",
        "\n",
        "    # create connection\n",
        "    curr = self.head\n",
        "    while curr.next != None:\n",
        "      curr = curr.next\n",
        "    curr.next = new_node\n",
        "    # increase n\n",
        "    self.n = self.n + 1\n",
        "\n",
        "  # Insert after given item => O(n)\n",
        "  def insert_after(self, after, item):\n",
        "    # new node\n",
        "    new_node = Node(item)\n",
        "    # increase n\n",
        "    self.n = self.n + 1\n",
        "    # find prev_item.next\n",
        "    curr = self.head\n",
        "    while curr != None:\n",
        "      if curr.item == after:\n",
        "        break\n",
        "      curr = curr.next\n",
        "    # case 1: break, i.e., we got the item and curr == after\n",
        "    if curr != None:\n",
        "      new_node.next = curr.next\n",
        "      curr.next = new_node\n",
        "    # case 2: loop got executed till end. i.e., we didn't get the item and curr == None\n",
        "    else:\n",
        "      return \"Item not found.\"\n",
        "\n",
        "  # clear => O(1)\n",
        "  def clear(self):\n",
        "    self.head = None\n",
        "    self.n = 0\n",
        "\n",
        "  # delete from head => O(1)\n",
        "  def delete_head(self):\n",
        "    if self.head == None:\n",
        "      return \"Empty LL\"\n",
        "    self.head = self.head.next\n",
        "    self.n = self.n - 1\n",
        "\n",
        "  # delete from tail(pop) => O(n)\n",
        "  def pop(self):\n",
        "    if self.head == None:\n",
        "      return \"Empty LL\"\n",
        "\n",
        "    curr = self.head\n",
        "\n",
        "    if curr.next == None:\n",
        "      return self.delete_head()\n",
        "\n",
        "    while curr.next.next != None:\n",
        "      curr = curr.next\n",
        "    # curr is 2nd last node\n",
        "    curr.next = None\n",
        "    self.n = self.n - 1\n",
        "\n",
        "  # delete by value(remove) => O(n)\n",
        "  def remove(self, item):\n",
        "    if self.head == None:\n",
        "      return \"Empty LL\"\n",
        "\n",
        "    # If item is the first item of the linked list or there is only one item in the linked list.\n",
        "    if self.head.item == item:\n",
        "      return self.delete_head()\n",
        "\n",
        "    curr = self.head\n",
        "\n",
        "    while curr.next != None:\n",
        "      if curr.next.item == item:\n",
        "        break\n",
        "      curr = curr.next\n",
        "\n",
        "    # case 1: item found\n",
        "    # case 2: item not found\n",
        "    if curr.next == None:\n",
        "      return \"Item not found\"\n",
        "    else:\n",
        "      curr.next = curr.next.next\n",
        "    self.n = self.n - 1\n",
        "\n",
        "  # search by value(find) => O(n)\n",
        "  def find(self, item):\n",
        "    curr = self.head\n",
        "    pos = 0\n",
        "\n",
        "    while curr != None:\n",
        "      if curr.item == item:\n",
        "        return pos\n",
        "      curr = curr.next\n",
        "      pos = pos + 1\n",
        "\n",
        "    return \"Not Found\"\n",
        "\n",
        "  # replace by maximun value => O(n)\n",
        "  def replace_max(self, item):\n",
        "    curr = self.head\n",
        "    max_node = curr\n",
        "\n",
        "    while curr != None:\n",
        "      if curr.item > max_node.item:\n",
        "        max_node = curr\n",
        "      curr = curr.next\n",
        "\n",
        "    max_node.item = item\n",
        "\n",
        "  # add values in odd nodes => O(n)\n",
        "  def add_odd(self):\n",
        "    curr = self.head\n",
        "    sum = 0\n",
        "    for i in range(self.n):\n",
        "      if i % 2 == 1:\n",
        "        sum += curr.item\n",
        "      curr = curr.next\n",
        "    return sum\n",
        "\n",
        "  # reverse the linked list => O(n)\n",
        "  def reverse(self):\n",
        "    arr = []\n",
        "    curr = self.head\n",
        "    while curr != None:\n",
        "      arr.append(curr.item)\n",
        "      curr = curr.next\n",
        "\n",
        "    self.clear()\n",
        "\n",
        "    for _ in range(len(arr)):\n",
        "      self.append(arr.pop())\n",
        "\n",
        "  # search by index (indexing)  => O(n)\n",
        "  def __getitem__(self, index):\n",
        "    curr = self.head\n",
        "    pos = 0\n",
        "\n",
        "    while curr != None:\n",
        "      if pos == index:\n",
        "        return curr.item\n",
        "      curr = curr.next\n",
        "      pos = pos + 1\n",
        "    return \"IndexError\"\n",
        "\n",
        "    # delete by index -> del L[0]\n",
        "\n",
        "  # delete by index (del) => O(n)\n",
        "  def __delitem__(self, index):\n",
        "    curr = self.head\n",
        "    pos = 0\n",
        "\n",
        "    while curr != None:\n",
        "      if pos == index:\n",
        "        value = curr.item\n",
        "        return self.remove(value)\n",
        "      curr = curr.next\n",
        "      pos = pos + 1\n",
        "    return \"Index out of bound\""
      ]
    },
    {
      "cell_type": "code",
      "execution_count": 5,
      "metadata": {
        "id": "p8j1ObElVfVx"
      },
      "outputs": [],
      "source": [
        "L = LinkedList()"
      ]
    },
    {
      "cell_type": "code",
      "execution_count": 6,
      "metadata": {
        "id": "S0Mlv3eDVlHA"
      },
      "outputs": [],
      "source": [
        "L.insert_head(2)\n",
        "L.insert_head(1)\n",
        "L.insert_head(4)\n",
        "L.insert_head(3)\n",
        "L.insert_head(5)"
      ]
    },
    {
      "cell_type": "code",
      "execution_count": 7,
      "metadata": {
        "id": "6nJw9hxKVmfn"
      },
      "outputs": [],
      "source": [
        "L.append(6)"
      ]
    },
    {
      "cell_type": "code",
      "execution_count": 8,
      "metadata": {
        "id": "54JHNSz1-Fue"
      },
      "outputs": [],
      "source": [
        "L.insert_after(5, 30)"
      ]
    },
    {
      "cell_type": "code",
      "execution_count": 9,
      "metadata": {
        "colab": {
          "base_uri": "https://localhost:8080/"
        },
        "id": "VSM1o9Uc-IPa",
        "outputId": "1654bdef-053c-4a9f-f1bc-2a97bbe6cbbc"
      },
      "outputs": [
        {
          "name": "stdout",
          "output_type": "stream",
          "text": [
            "5-->30-->3-->4-->1-->2-->6\n"
          ]
        }
      ],
      "source": [
        "print(L)"
      ]
    },
    {
      "cell_type": "code",
      "execution_count": 10,
      "metadata": {
        "colab": {
          "base_uri": "https://localhost:8080/"
        },
        "id": "GsJ-rdDBdHxs",
        "outputId": "da29ab52-aad3-4647-bbce-7c415530057f"
      },
      "outputs": [
        {
          "data": {
            "text/plain": [
              "6"
            ]
          },
          "execution_count": 10,
          "metadata": {},
          "output_type": "execute_result"
        }
      ],
      "source": [
        "L.find(6)"
      ]
    },
    {
      "cell_type": "markdown",
      "metadata": {
        "id": "fYOS7BRzRhas"
      },
      "source": [
        "**To Do's**\n",
        "* Find the time complexity of methods defined in today's class for Linked List. ✅\n",
        "* Find maximum value in a Linked List and replace it with a given value. replace_max(value) ✅\n",
        "* Add the values present at odd nodes of a Linked List odd_sum() ✅\n",
        "* Reverse a linked list. reverse() ✅"
      ]
    },
    {
      "cell_type": "code",
      "execution_count": 11,
      "metadata": {
        "colab": {
          "base_uri": "https://localhost:8080/"
        },
        "id": "irzUXolAz9I6",
        "outputId": "7b29638a-8677-4aac-9781-268d36a3bc50"
      },
      "outputs": [
        {
          "name": "stdout",
          "output_type": "stream",
          "text": [
            "5-->30-->3-->4-->1-->2-->6\n",
            "5-->100-->3-->4-->1-->2-->6\n"
          ]
        }
      ],
      "source": [
        "print(L)\n",
        "L.replace_max(100)\n",
        "print(L)"
      ]
    },
    {
      "cell_type": "code",
      "execution_count": 12,
      "metadata": {
        "colab": {
          "base_uri": "https://localhost:8080/"
        },
        "id": "t-WgzfNQz9I7",
        "outputId": "cce85361-20f1-4809-8ac8-7a53a3145a6f"
      },
      "outputs": [
        {
          "name": "stdout",
          "output_type": "stream",
          "text": [
            "106\n"
          ]
        }
      ],
      "source": [
        "print(L.add_odd())"
      ]
    },
    {
      "cell_type": "code",
      "execution_count": 13,
      "metadata": {
        "colab": {
          "base_uri": "https://localhost:8080/"
        },
        "id": "2PBhEBUBz9I8",
        "outputId": "8bb7f050-4d0c-41a9-8b70-aa81a66a272f"
      },
      "outputs": [
        {
          "name": "stdout",
          "output_type": "stream",
          "text": [
            "5-->100-->3-->4-->1-->2-->6\n",
            "6-->2-->1-->4-->3-->100-->5\n"
          ]
        }
      ],
      "source": [
        "print(L)\n",
        "L.reverse()\n",
        "print(L)"
      ]
    }
  ],
  "metadata": {
    "colab": {
      "provenance": []
    },
    "kernelspec": {
      "display_name": "Python 3",
      "name": "python3"
    },
    "language_info": {
      "codemirror_mode": {
        "name": "ipython",
        "version": 3
      },
      "file_extension": ".py",
      "mimetype": "text/x-python",
      "name": "python",
      "nbconvert_exporter": "python",
      "pygments_lexer": "ipython3",
      "version": "3.10.0"
    }
  },
  "nbformat": 4,
  "nbformat_minor": 0
}

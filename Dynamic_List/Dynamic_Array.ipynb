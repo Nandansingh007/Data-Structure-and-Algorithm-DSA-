{
  "cells": [
    {
      "cell_type": "code",
      "execution_count": 1,
      "metadata": {
        "id": "Om8KxxN0Mxec"
      },
      "outputs": [],
      "source": [
        "import ctypes"
      ]
    },
    {
      "cell_type": "code",
      "execution_count": 2,
      "metadata": {
        "id": "0RiVFzThMxee"
      },
      "outputs": [],
      "source": [
        "class DynamicArray():\n",
        "    def __init__(self): #✅ O(1)\n",
        "        \"\"\"\n",
        "        Initializes a empty array with one empty slot.\n",
        "        \"\"\"\n",
        "        self.__n = 0\n",
        "        self.__size = 1\n",
        "        self.__array = self.__createArray(self.__size)\n",
        "\n",
        "    def append(self, item:any) -> None: #✅ O(n)\n",
        "        \"\"\"\n",
        "        Add items at the end of the array\n",
        "\n",
        "        Parameter:\n",
        "            item (any): item to be appended\n",
        "        Returns:\n",
        "            None\n",
        "        \"\"\"\n",
        "        self.__checkSpace()\n",
        "        self.__array[self.__n] = item\n",
        "        self.__n += 1\n",
        "\n",
        "    def insert(self, index:int, item:any): #✅ O(n)\n",
        "        \"\"\"\n",
        "        Insert new item to given index\n",
        "\n",
        "        Parameter:\n",
        "            index (int) : Index where new item is to be inserted\n",
        "            item (any) : actual\n",
        "        \"\"\"\n",
        "        if index > self.__n:\n",
        "            raise IndexError(\"index out of range\")\n",
        "        self.__checkSpace()\n",
        "        for i in range(self.__n, index, -1):\n",
        "            self.__array[i] = self.__array[i-1]\n",
        "        self.__array[index] = item\n",
        "        self.__n += 1\n",
        "\n",
        "    def pop(self): #✅ O(1)\n",
        "        \"\"\"\n",
        "        Returns last elements and remove it from array.\n",
        "\n",
        "        Parameter:\n",
        "            None\n",
        "        Return:\n",
        "            any : Last element in array\n",
        "        \"\"\"\n",
        "        if not self.__n:\n",
        "            raise IndexError(\"pop from empty array\")\n",
        "        self.__n -= 1\n",
        "        return self.__array[self.__n]\n",
        "\n",
        "    def find(self, item:any): #✅ O(n)\n",
        "        \"\"\"\n",
        "        Find an item in a array and return its index if found, else return None.\n",
        "\n",
        "        Parameter:\n",
        "            item (any) : item to be searched\n",
        "        Return:\n",
        "            int | None : index of the item,\n",
        "                    when there are multiple items then only one index is returned\n",
        "                    if not found then return None\n",
        "        \"\"\"\n",
        "        for i in range(self.__n):\n",
        "            if item == self.__array[i]:\n",
        "                return i\n",
        "        return None\n",
        "\n",
        "    def delete(self, index:int): #✅ O(n)\n",
        "        \"\"\"\n",
        "        Delete the item at the given index\n",
        "\n",
        "        Parameter:\n",
        "            index (int) : Item index to be deleted\n",
        "        Returns:\n",
        "            None\n",
        "        \"\"\"\n",
        "        if index >= self.__n:\n",
        "            raise IndexError(\"index out of range\")\n",
        "\n",
        "        self.__n -= 1\n",
        "        for i in range(index, self.__n, 1):\n",
        "            self.__array[i] = self.__array[i+1]\n",
        "\n",
        "    def remove(self, item:int): #✅ O(n^2)\n",
        "        \"\"\"\n",
        "        Remove all matching items from array\n",
        "\n",
        "        Parameter:\n",
        "            item (any) : Item to be deleted\n",
        "        Returns:\n",
        "            None\n",
        "        \"\"\"\n",
        "        while (i := self.find(item)):\n",
        "            self.delete(i)\n",
        "\n",
        "    def clear(self): #✅ O(1)\n",
        "        \"\"\"\n",
        "        Make array empty\n",
        "\n",
        "        Parameter:\n",
        "            None\n",
        "        Returns:\n",
        "            None\n",
        "        \"\"\"\n",
        "        self.__init__()\n",
        "\n",
        "    def sort(self): #✅ O(nlogn)\n",
        "        \"\"\"\n",
        "        Sort array\n",
        "\n",
        "        Parameter:\n",
        "            None\n",
        "        Returns:\n",
        "            None\n",
        "        \"\"\"\n",
        "\n",
        "        def mergeSort(arr):\n",
        "            if len(arr) <= 1:\n",
        "                return arr\n",
        "            mid = len(arr)//2\n",
        "            left = arr[:mid]\n",
        "            right = arr[mid:]\n",
        "\n",
        "            left = mergeSort(left)\n",
        "            right = mergeSort(right)\n",
        "            return mergeTwoSortedArray(left, right)\n",
        "\n",
        "        def mergeTwoSortedArray(l, r):\n",
        "            arr = []\n",
        "            len_l = len(l)\n",
        "            len_r = len(r)\n",
        "            i = j = 0\n",
        "            while i < len_l and j < len_r:\n",
        "                if l[i] <= r[j]:\n",
        "                    arr.append(l[i])\n",
        "                    i += 1\n",
        "                else:\n",
        "                    arr.append(r[j])\n",
        "                    j += 1\n",
        "            while i < len_l:\n",
        "                arr.append(l[i])\n",
        "                i += 1\n",
        "            while j < len_r:\n",
        "                arr.append(r[j])\n",
        "                j += 1\n",
        "            return arr\n",
        "\n",
        "        temp = mergeSort(self.__array[:self.__n])\n",
        "\n",
        "        for i in range(self.__n):\n",
        "            self.__array[i] = temp[i]\n",
        "\n",
        "    def __createArray(self, size:int) -> ctypes.Array: #✅ O(1)\n",
        "        \"\"\"\n",
        "        Creates a array of given size.\n",
        "\n",
        "        Parameter:\n",
        "            size (int) : Size of array to be created\n",
        "        Returns:\n",
        "            ctype.Array : A new array\n",
        "        \"\"\"\n",
        "        return (size * ctypes.py_object)()\n",
        "\n",
        "    def __checkSpace(self): #✅ O(n)\n",
        "        \"\"\"\n",
        "        Check is empty space is available, if not then it will resize the array\n",
        "        Parameters:\n",
        "            None\n",
        "        Returns:\n",
        "            None\n",
        "        \"\"\"\n",
        "        if self.__size == self.__n:\n",
        "            self.__resize()\n",
        "\n",
        "    def __resize(self, increamentor:int = 2): #✅ O(n)\n",
        "        \"\"\"\n",
        "        Resizes the array where new size = increamentor * original size\n",
        "        Parameters:\n",
        "            increamnetor (int) : Default 2, Multiplicative factor\n",
        "        Returns:\n",
        "            None\n",
        "        \"\"\"\n",
        "        self.__size = self.__size * increamentor\n",
        "        temp = self.__createArray(self.__size)\n",
        "        for i in range(self.__n):\n",
        "            temp[i] = self.__array[i]\n",
        "        self.__array = temp\n",
        "\n",
        "    def __len__(self) -> int: #✅ O(1)\n",
        "        \"\"\"\n",
        "        Returns number of elements in array\n",
        "        Parameters:\n",
        "            None\n",
        "        Returns:\n",
        "            int : number of elements in array\n",
        "        \"\"\"\n",
        "        return self.__n\n",
        "\n",
        "    def __getitem__(self, index:int) -> any: #✅ O(1)\n",
        "        \"\"\"\n",
        "        Returns element in provided index of array\n",
        "\n",
        "        Parameters:\n",
        "            index (int): The index of the element to retrieve.\n",
        "\n",
        "        Returns:\n",
        "            Any: The element at the specified index.\n",
        "        \"\"\"\n",
        "        if index >= self.__n:\n",
        "            raise IndexError(\"index out of range\")\n",
        "        return self.__array[index]\n",
        "\n",
        "    def __str__(self): #✅ O(n)\n",
        "        \"\"\"\n",
        "        Prints all elements of array\n",
        "\n",
        "        Parameters:\n",
        "            None\n",
        "        Return:\n",
        "            str : string contening all elememts\n",
        "        \"\"\"\n",
        "        return f\"{[self.__array[i] for i in range(self.__n)]}\"\n",
        "\n",
        "    def __delitem__(self, index:int): #✅ O(n)\n",
        "        \"\"\"\n",
        "        Delete the item at the given index\n",
        "\n",
        "        Parameter:\n",
        "            index (int) : Item index to be deleted\n",
        "        Returns:\n",
        "            None\n",
        "        \"\"\"\n",
        "        self.delete(index)"
      ]
    },
    {
      "cell_type": "markdown",
      "metadata": {
        "id": "4edydFw4Mxei"
      },
      "source": [
        "Initializing a empty list"
      ]
    },
    {
      "cell_type": "code",
      "execution_count": 3,
      "metadata": {
        "id": "SeQlViJLMxej"
      },
      "outputs": [],
      "source": [
        "l = DynamicArray()"
      ]
    },
    {
      "cell_type": "markdown",
      "metadata": {
        "id": "2EmrGKGGMxek"
      },
      "source": [
        "Checking length"
      ]
    },
    {
      "cell_type": "code",
      "execution_count": 4,
      "metadata": {
        "colab": {
          "base_uri": "https://localhost:8080/"
        },
        "id": "LaUS0gdVMxek",
        "outputId": "b6003c31-41b3-4bdd-eb33-8d4e69393453"
      },
      "outputs": [
        {
          "output_type": "execute_result",
          "data": {
            "text/plain": [
              "0"
            ]
          },
          "metadata": {},
          "execution_count": 4
        }
      ],
      "source": [
        "len(l)"
      ]
    },
    {
      "cell_type": "markdown",
      "metadata": {
        "id": "MBgw-fsIMxem"
      },
      "source": [
        "Inserting five elements"
      ]
    },
    {
      "cell_type": "code",
      "execution_count": 5,
      "metadata": {
        "id": "JjBfoml9Mxen"
      },
      "outputs": [],
      "source": [
        "l.append(5)\n",
        "l.append(4)\n",
        "l.append(3)\n",
        "l.append(2)\n",
        "l.append(1)"
      ]
    },
    {
      "cell_type": "markdown",
      "metadata": {
        "id": "E-galRhPMxen"
      },
      "source": [
        "Again checking length"
      ]
    },
    {
      "cell_type": "code",
      "execution_count": 6,
      "metadata": {
        "colab": {
          "base_uri": "https://localhost:8080/"
        },
        "id": "BGA180xiMxeo",
        "outputId": "d7f758f1-847f-4790-b49a-c6cd2a859006"
      },
      "outputs": [
        {
          "output_type": "execute_result",
          "data": {
            "text/plain": [
              "5"
            ]
          },
          "metadata": {},
          "execution_count": 6
        }
      ],
      "source": [
        "len(l)"
      ]
    },
    {
      "cell_type": "markdown",
      "metadata": {
        "id": "-GoGfS2XMxeo"
      },
      "source": [
        "Printing entire array"
      ]
    },
    {
      "cell_type": "code",
      "execution_count": 7,
      "metadata": {
        "colab": {
          "base_uri": "https://localhost:8080/"
        },
        "id": "89rgr5loMxep",
        "outputId": "c2869579-5c70-4c15-e261-c1c661267a84"
      },
      "outputs": [
        {
          "output_type": "stream",
          "name": "stdout",
          "text": [
            "[5, 4, 3, 2, 1]\n"
          ]
        }
      ],
      "source": [
        "print(l)"
      ]
    },
    {
      "cell_type": "markdown",
      "metadata": {
        "id": "BOajjTEsMxep"
      },
      "source": [
        "Sorting the array"
      ]
    },
    {
      "cell_type": "code",
      "execution_count": 8,
      "metadata": {
        "id": "nbR1IgtvMxep"
      },
      "outputs": [],
      "source": [
        "l.sort()"
      ]
    },
    {
      "cell_type": "markdown",
      "metadata": {
        "id": "3LuYzf2lMxeq"
      },
      "source": [
        "Printing sorted array"
      ]
    },
    {
      "cell_type": "code",
      "execution_count": 9,
      "metadata": {
        "colab": {
          "base_uri": "https://localhost:8080/"
        },
        "id": "uLMErI6YMxeq",
        "outputId": "f5723d79-3344-4d61-de64-29df7b5d0e17"
      },
      "outputs": [
        {
          "output_type": "stream",
          "name": "stdout",
          "text": [
            "[1, 2, 3, 4, 5]\n"
          ]
        }
      ],
      "source": [
        "print(l)"
      ]
    },
    {
      "cell_type": "markdown",
      "metadata": {
        "id": "KCVgZ9EyMxeq"
      },
      "source": [
        "Poping an item"
      ]
    },
    {
      "cell_type": "code",
      "execution_count": 10,
      "metadata": {
        "colab": {
          "base_uri": "https://localhost:8080/"
        },
        "id": "2W8fV8r3Mxer",
        "outputId": "4fce2907-9b14-44c3-eecf-45c852793827"
      },
      "outputs": [
        {
          "output_type": "execute_result",
          "data": {
            "text/plain": [
              "5"
            ]
          },
          "metadata": {},
          "execution_count": 10
        }
      ],
      "source": [
        "l.pop()"
      ]
    },
    {
      "cell_type": "markdown",
      "metadata": {
        "id": "9-Wcvw-7Mxer"
      },
      "source": [
        "Printing array"
      ]
    },
    {
      "cell_type": "code",
      "execution_count": 11,
      "metadata": {
        "colab": {
          "base_uri": "https://localhost:8080/"
        },
        "id": "JLhCIxNiMxes",
        "outputId": "4168a283-2776-4ca0-8c64-c324fbfb707d"
      },
      "outputs": [
        {
          "output_type": "stream",
          "name": "stdout",
          "text": [
            "[1, 2, 3, 4]\n"
          ]
        }
      ],
      "source": [
        "print(l)"
      ]
    },
    {
      "cell_type": "markdown",
      "metadata": {
        "id": "FKaGn6w1Mxes"
      },
      "source": [
        "Inserting value 6 on fifth position"
      ]
    },
    {
      "cell_type": "code",
      "execution_count": 16,
      "metadata": {
        "colab": {
          "base_uri": "https://localhost:8080/",
          "height": 296
        },
        "id": "-2uubjYGMxes",
        "outputId": "cde69535-3aac-48ba-c8ee-b2b796fc73d2"
      },
      "outputs": [
        {
          "output_type": "error",
          "ename": "IndexError",
          "evalue": "ignored",
          "traceback": [
            "\u001b[0;31m---------------------------------------------------------------------------\u001b[0m",
            "\u001b[0;31mIndexError\u001b[0m                                Traceback (most recent call last)",
            "\u001b[0;32m<ipython-input-16-92164d4f0e42>\u001b[0m in \u001b[0;36m<cell line: 1>\u001b[0;34m()\u001b[0m\n\u001b[0;32m----> 1\u001b[0;31m \u001b[0ml\u001b[0m\u001b[0;34m.\u001b[0m\u001b[0minsert\u001b[0m\u001b[0;34m(\u001b[0m\u001b[0;36m5\u001b[0m\u001b[0;34m,\u001b[0m \u001b[0;36m6\u001b[0m\u001b[0;34m)\u001b[0m\u001b[0;34m\u001b[0m\u001b[0;34m\u001b[0m\u001b[0m\n\u001b[0m",
            "\u001b[0;32m<ipython-input-2-f3347a6a00dc>\u001b[0m in \u001b[0;36minsert\u001b[0;34m(self, index, item)\u001b[0m\n\u001b[1;32m     30\u001b[0m         \"\"\"\n\u001b[1;32m     31\u001b[0m         \u001b[0;32mif\u001b[0m \u001b[0mindex\u001b[0m \u001b[0;34m>\u001b[0m \u001b[0mself\u001b[0m\u001b[0;34m.\u001b[0m\u001b[0m__n\u001b[0m\u001b[0;34m:\u001b[0m\u001b[0;34m\u001b[0m\u001b[0;34m\u001b[0m\u001b[0m\n\u001b[0;32m---> 32\u001b[0;31m             \u001b[0;32mraise\u001b[0m \u001b[0mIndexError\u001b[0m\u001b[0;34m(\u001b[0m\u001b[0;34m\"index out of range\"\u001b[0m\u001b[0;34m)\u001b[0m\u001b[0;34m\u001b[0m\u001b[0;34m\u001b[0m\u001b[0m\n\u001b[0m\u001b[1;32m     33\u001b[0m         \u001b[0mself\u001b[0m\u001b[0;34m.\u001b[0m\u001b[0m__checkSpace\u001b[0m\u001b[0;34m(\u001b[0m\u001b[0;34m)\u001b[0m\u001b[0;34m\u001b[0m\u001b[0;34m\u001b[0m\u001b[0m\n\u001b[1;32m     34\u001b[0m         \u001b[0;32mfor\u001b[0m \u001b[0mi\u001b[0m \u001b[0;32min\u001b[0m \u001b[0mrange\u001b[0m\u001b[0;34m(\u001b[0m\u001b[0mself\u001b[0m\u001b[0;34m.\u001b[0m\u001b[0m__n\u001b[0m\u001b[0;34m,\u001b[0m \u001b[0mindex\u001b[0m\u001b[0;34m,\u001b[0m \u001b[0;34m-\u001b[0m\u001b[0;36m1\u001b[0m\u001b[0;34m)\u001b[0m\u001b[0;34m:\u001b[0m\u001b[0;34m\u001b[0m\u001b[0;34m\u001b[0m\u001b[0m\n",
            "\u001b[0;31mIndexError\u001b[0m: index out of range"
          ]
        }
      ],
      "source": [
        "l.insert(5, 6)"
      ]
    },
    {
      "cell_type": "code",
      "execution_count": 17,
      "metadata": {
        "colab": {
          "base_uri": "https://localhost:8080/"
        },
        "id": "6P0mcxqRMxet",
        "outputId": "dedc6fec-febd-4f03-8ace-51754422d175"
      },
      "outputs": [
        {
          "output_type": "stream",
          "name": "stdout",
          "text": [
            "[1, 2, 3]\n"
          ]
        }
      ],
      "source": [
        "print(l)"
      ]
    },
    {
      "cell_type": "markdown",
      "metadata": {
        "id": "gwy5IBRLMxet"
      },
      "source": [
        "Finding an element"
      ]
    },
    {
      "cell_type": "code",
      "execution_count": 18,
      "metadata": {
        "colab": {
          "base_uri": "https://localhost:8080/"
        },
        "id": "-11BnUuJMxet",
        "outputId": "42c39a48-82ed-4652-a7fc-b8ca2a69aa85"
      },
      "outputs": [
        {
          "output_type": "execute_result",
          "data": {
            "text/plain": [
              "1"
            ]
          },
          "metadata": {},
          "execution_count": 18
        }
      ],
      "source": [
        "l.find(2)"
      ]
    },
    {
      "cell_type": "markdown",
      "metadata": {
        "id": "rAzHB91YMxeu"
      },
      "source": [
        "Removing all value 4 from array"
      ]
    },
    {
      "cell_type": "code",
      "execution_count": 15,
      "metadata": {
        "id": "3bH06IldMxeu"
      },
      "outputs": [],
      "source": [
        "l.remove(4)"
      ]
    },
    {
      "cell_type": "code",
      "execution_count": 19,
      "metadata": {
        "colab": {
          "base_uri": "https://localhost:8080/"
        },
        "id": "OwoPd2PEMxeu",
        "outputId": "224cd658-d8ba-4dee-a479-56a22bbb06cb"
      },
      "outputs": [
        {
          "output_type": "stream",
          "name": "stdout",
          "text": [
            "[1, 2, 3]\n"
          ]
        }
      ],
      "source": [
        "print(l)"
      ]
    },
    {
      "cell_type": "code",
      "execution_count": 20,
      "metadata": {
        "id": "WG_N-Jk1Mxev"
      },
      "outputs": [],
      "source": [
        "del l[2]"
      ]
    },
    {
      "cell_type": "markdown",
      "metadata": {
        "id": "xSfyeNjCMxev"
      },
      "source": [
        "Deleteing from given index"
      ]
    },
    {
      "cell_type": "code",
      "execution_count": 21,
      "metadata": {
        "colab": {
          "base_uri": "https://localhost:8080/"
        },
        "id": "Ug_Mifv6Mxev",
        "outputId": "c026afc3-9afa-4fce-c17a-502817f61d54"
      },
      "outputs": [
        {
          "output_type": "stream",
          "name": "stdout",
          "text": [
            "[1, 2]\n"
          ]
        }
      ],
      "source": [
        "print(l)"
      ]
    },
    {
      "cell_type": "markdown",
      "metadata": {
        "id": "nXPrWsvsMxew"
      },
      "source": [
        "raising index out of range error"
      ]
    },
    {
      "cell_type": "code",
      "execution_count": 22,
      "metadata": {
        "colab": {
          "base_uri": "https://localhost:8080/"
        },
        "id": "TMlGU3xLMxew",
        "outputId": "a2e5b8c0-33a3-445e-ad11-2306aa9cd912"
      },
      "outputs": [
        {
          "output_type": "stream",
          "name": "stdout",
          "text": [
            "index out of range\n"
          ]
        }
      ],
      "source": [
        "try:\n",
        "    l[10]\n",
        "except IndexError as e:\n",
        "    print(e)"
      ]
    },
    {
      "cell_type": "markdown",
      "metadata": {
        "id": "nSjZeoSUMxew"
      },
      "source": [
        "Clearing the array"
      ]
    },
    {
      "cell_type": "code",
      "execution_count": 23,
      "metadata": {
        "id": "5D0ZxvzeMxex"
      },
      "outputs": [],
      "source": [
        "l.clear()"
      ]
    },
    {
      "cell_type": "code",
      "execution_count": 26,
      "metadata": {
        "colab": {
          "base_uri": "https://localhost:8080/"
        },
        "id": "VGPWOXLhMxex",
        "outputId": "c3258bd0-ce29-4bc5-dd63-f7c0ba0d4192"
      },
      "outputs": [
        {
          "output_type": "stream",
          "name": "stdout",
          "text": [
            "[]\n"
          ]
        }
      ],
      "source": [
        "print(l)"
      ]
    }
  ],
  "metadata": {
    "kernelspec": {
      "display_name": "fellowship",
      "language": "python",
      "name": "python3"
    },
    "language_info": {
      "codemirror_mode": {
        "name": "ipython",
        "version": 3
      },
      "file_extension": ".py",
      "mimetype": "text/x-python",
      "name": "python",
      "nbconvert_exporter": "python",
      "pygments_lexer": "ipython3",
      "version": "3.10.0"
    },
    "orig_nbformat": 4,
    "colab": {
      "provenance": []
    }
  },
  "nbformat": 4,
  "nbformat_minor": 0
}